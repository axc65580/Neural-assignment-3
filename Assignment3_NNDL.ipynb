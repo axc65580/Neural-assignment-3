{
  "nbformat": 4,
  "nbformat_minor": 0,
  "metadata": {
    "colab": {
      "provenance": []
    },
    "kernelspec": {
      "name": "python3",
      "display_name": "Python 3"
    },
    "language_info": {
      "name": "python"
    }
  },
  "cells": [
    {
      "cell_type": "code",
      "execution_count": 1,
      "metadata": {
        "colab": {
          "base_uri": "https://localhost:8080/"
        },
        "id": "DPeUUrkMC1eJ",
        "outputId": "21387df7-bd13-4754-b419-78777dae27e6"
      },
      "outputs": [
        {
          "output_type": "stream",
          "name": "stdout",
          "text": [
            "Average Salary for Employees: 55000.0\n",
            "Average Salary for FullTimeEmployee: 70000.0\n",
            "Total Employees: 3\n"
          ]
        }
      ],
      "source": [
        "class Employee:\n",
        "    # Class variable to count the number of employees\n",
        "    employee_count = 0\n",
        "\n",
        "    def __init__(self, name, family, salary, department):\n",
        "        # Instance variables\n",
        "        self.name = name\n",
        "        self.family = family\n",
        "        self.salary = salary\n",
        "        self.department = department\n",
        "\n",
        "        # Increment the employee count when a new employee is created\n",
        "        Employee.employee_count += 1\n",
        "\n",
        "    def average_salary(self, *salaries):\n",
        "        # Calculate and return the average salary\n",
        "        total_salary = sum(salaries) + self.salary\n",
        "        num_employees = len(salaries) + 1  # Include the current instance\n",
        "        return total_salary / num_employees\n",
        "\n",
        "\n",
        "class FullTimeEmployee(Employee):\n",
        "    # Additional properties for FullTimeEmployee can be added here\n",
        "\n",
        "    def __init__(self, name, family, salary, department, fulltime_property):\n",
        "        # Call the constructor of the base class (Employee)\n",
        "        super().__init__(name, family, salary, department)\n",
        "\n",
        "        # Additional property specific to FullTimeEmployee\n",
        "        self.fulltime_property = fulltime_property\n",
        "\n",
        "\n",
        "# Create instances of Employee class\n",
        "employee1 = Employee(\"Priyanka p\", \"Family1\", 50000, \"HR\")\n",
        "employee2 = Employee(\"Jessica e\", \"Family2\", 60000, \"IT\")\n",
        "\n",
        "# Call the average_salary function for Employee class\n",
        "average_salary_employee = employee1.average_salary(employee2.salary)\n",
        "print(f\"Average Salary for Employees: {average_salary_employee}\")\n",
        "\n",
        "# Create instances of FullTimeEmployee class\n",
        "fulltime_employee = FullTimeEmployee(\"Alice\", \"Family3\", 70000, \"Finance\", \"FullTimeProperty\")\n",
        "\n",
        "# Call the average_salary function for FullTimeEmployee class\n",
        "average_salary_fulltime_employee = fulltime_employee.average_salary()\n",
        "print(f\"Average Salary for FullTimeEmployee: {average_salary_fulltime_employee}\")\n",
        "\n",
        "# Print the total count of employees\n",
        "print(f\"Total Employees: {Employee.employee_count}\")\n"
      ]
    },
    {
      "cell_type": "code",
      "source": [
        "import numpy as np\n",
        "\n",
        "# numpy array with random values in 4 by 5 size\n",
        "randNumArray = np.random.uniform(low=1, high=20, size=(4,5))\n",
        "\n",
        "# finding the indices with maximum values\n",
        "maxIndices = np.argmax(randNumArray, axis=1)\n",
        "\n",
        "# finding the row indices\n",
        "rowIndices = np.arange(randNumArray.shape[0])\n",
        "\n",
        "# finding the exact positions of maximium valuesin the array\n",
        "positionIndices = np.array([rowIndices, maxIndices])\n",
        "\n",
        "# to convert the array into an array of flat indices\n",
        "linearIndices = np.ravel_multi_index(positionIndices, randNumArray.shape)\n",
        "\n",
        "# reshaping the linear array into multi dimensionanl array\n",
        "randNumArray.reshape((-1))[linearIndices] = 0\n",
        "\n",
        "print(randNumArray)"
      ],
      "metadata": {
        "colab": {
          "base_uri": "https://localhost:8080/"
        },
        "id": "KZOL87KXDH1J",
        "outputId": "394c8c30-d155-4622-fc1d-f379b16d59dd"
      },
      "execution_count": 2,
      "outputs": [
        {
          "output_type": "stream",
          "name": "stdout",
          "text": [
            "[[ 3.40073184  0.          7.01002418 14.28827796  7.01196737]\n",
            " [ 4.03662263  5.29131141  0.         11.00904295 13.06977324]\n",
            " [ 3.11043327  3.08232744  0.          1.97685861  2.33789317]\n",
            " [ 6.03721016 12.68713982 11.36987836  0.          5.23126151]]\n"
          ]
        }
      ]
    }
  ]
}